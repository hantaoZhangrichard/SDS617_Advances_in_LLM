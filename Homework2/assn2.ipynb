{
 "cells": [
  {
   "cell_type": "markdown",
   "metadata": {},
   "source": [
    "# S&DS 617 Applied Machine Learning and Causal Inference Research Seminar: Assignment 2\n",
    "\n",
    "**Deadline**\n",
    "\n",
    "Assignment 2 is due Monday, March 24th at 1:30pm. Late work will not be accepted.\n",
    "\n",
    "\n",
    "**Submission**\n",
    "\n",
    "Submit your assignment as a .pdf on Gradescope. On Gradescope, there are 2 assignments, one where you will submit a pdf file and one where you will submit the corresponding .ipynb that generated it. \n",
    "Note: The problems in each homework assignment are numbered.When submitting the pdf on Gradescope, please select the correct pages that correspond to each problem. \n",
    "\n",
    "To produce the .pdf, do the following to preserve the cell structure of the notebook:\n",
    "- Go to \"File\" at the top-left of your Jupyter Notebook\n",
    "- Under \"Download as\", select \"HTML (.html)\"\n",
    "- After the .html has downloaded, open it and then select \"File\" and \"Print\"\n",
    "- From the print window, select the option to save as a .pdf"
   ]
  },
  {
   "cell_type": "markdown",
   "metadata": {},
   "source": [
    "## Problem 1\n",
    "\n",
    "In this exercise, we'll employ different prompt tuning techniques on GSM8k dataset [Link](https://github.com/openai/grade-school-math/tree/master/grade_school_math/data).\n",
    "\n",
    "The GSM8K dataset is an OpenAI-curated collection of 8,500 grade school math problems designed to challenge and evaluate the mathematical reasoning capabilities of language models. It contains approximately 7,500 training and 1,000 test problems that require 2 to 8 steps to solve, using basic arithmetic operations. The dataset aims to diagnose current model limitations in multi-step reasoning and supports advancements in AI's understanding and processing of natural language math problems. It includes both standard problems and a Socratic format with guiding subquestions, along with calculation annotations to aid in accuracy, making it a valuable resource for AI research in natural language processing.\n",
    "\n",
    "Below, we have provided helper functions to load the data. "
   ]
  },
  {
   "cell_type": "code",
   "execution_count": 1,
   "metadata": {},
   "outputs": [],
   "source": [
    "import requests\n",
    "import tarfile\n",
    "import os\n",
    "import json\n",
    "import re\n",
    "import openai\n",
    "import pandas as pd\n",
    "\n",
    "# Function to load data from a URL\n",
    "def load_data_from_url(url):\n",
    "    response = requests.get(url)\n",
    "    if response.status_code == 200:\n",
    "        data = [json.loads(line) for line in response.iter_lines(decode_unicode=True)]\n",
    "        df = pd.DataFrame(data)\n",
    "        return df\n",
    "    else:\n",
    "        print(f\"Failed to download the file: {response.status_code}\")\n",
    "        return None\n",
    "\n",
    "# Function to get the true solution from JSON file \n",
    "def extract_solution(problem):\n",
    "    \"\"\"\n",
    "    Extracts the final numeric solution from a problem dictionary with 'question' and 'answer' keys.\n",
    "    The answer is expected to contain a '####' token followed by the final numeric solution.\n",
    "    \n",
    "    :param problem: A dictionary with 'question' and 'answer' keys.\n",
    "    :return: The final numeric solution as a string.\n",
    "    \"\"\"\n",
    "    # Split the answer into lines\n",
    "    answer_lines = problem['answer'].split('\\n')\n",
    "    # Look for the line with the '####' token\n",
    "    for line in answer_lines:\n",
    "        if '####' in line:\n",
    "            # Extract the numeric solution that follows the '####' token\n",
    "            solution = line.split('####')[-1].strip()\n",
    "            return solution\n",
    "    # If no solution is found, return None\n",
    "    return None"
   ]
  },
  {
   "cell_type": "markdown",
   "metadata": {},
   "source": [
    "### Load Data"
   ]
  },
  {
   "cell_type": "code",
   "execution_count": 2,
   "metadata": {},
   "outputs": [
    {
     "data": {
      "text/plain": [
       "(1000, 500)"
      ]
     },
     "execution_count": 2,
     "metadata": {},
     "output_type": "execute_result"
    }
   ],
   "source": [
    "# URLs for the train and test data\n",
    "train_url = \"https://raw.githubusercontent.com/openai/grade-school-math/master/grade_school_math/data/train.jsonl\"\n",
    "test_url = \"https://raw.githubusercontent.com/openai/grade-school-math/master/grade_school_math/data/test.jsonl\"\n",
    "\n",
    "# Load the training data\n",
    "df_train = load_data_from_url(train_url)\n",
    "df_train = df_train.sample(n=1000, random_state=928)\n",
    "\n",
    "# Load the test data\n",
    "df_test = load_data_from_url(test_url)\n",
    "df_test = df_test.sample(n=500, random_state=184)\n",
    "\n",
    "# Display the lengths of the datasets as a check\n",
    "len(df_train), len(df_test)"
   ]
  },
  {
   "cell_type": "code",
   "execution_count": 30,
   "metadata": {},
   "outputs": [
    {
     "name": "stdout",
     "output_type": "stream",
     "text": [
      "question    Bob wants to dig a hole 6 feet long by 4 feet ...\n",
      "answer      The hole is 6 feet long by 4 feet wide by 3 fe...\n",
      "Name: 639, dtype: object\n"
     ]
    }
   ],
   "source": [
    "sample_row = df_test.iloc[15,] \n",
    "print(sample_row)\n",
    "# print(df_train.head)"
   ]
  },
  {
   "cell_type": "code",
   "execution_count": 31,
   "metadata": {},
   "outputs": [
    {
     "name": "stdout",
     "output_type": "stream",
     "text": [
      "The hole is 6 feet long by 4 feet wide by 3 feet deep or 6 * 4 * 3 = <<6*4*3=72>>72 cubic feet.\n",
      "Bob shovels a cubic foot of earth every 3 seconds so it will take 72 * 3 = <<72*3=216>>216 seconds to dig the hole.\n",
      "#### 216\n"
     ]
    }
   ],
   "source": [
    "# print(sample_row['question']) # sample question\n",
    "print(sample_row['answer'])"
   ]
  },
  {
   "cell_type": "code",
   "execution_count": 32,
   "metadata": {},
   "outputs": [
    {
     "data": {
      "text/plain": [
       "'216'"
      ]
     },
     "execution_count": 32,
     "metadata": {},
     "output_type": "execute_result"
    }
   ],
   "source": [
    "# Extract the solution\n",
    "extract_solution(sample_row)"
   ]
  },
  {
   "cell_type": "markdown",
   "metadata": {},
   "source": [
    "a) Implement zero shot learning, few shot learning, and chain of thought prompting using gpt-4o. Make a figure or table comparing the accuracy of each on the test set and comment on your results and whether they align with your expectations. Sample at most 1000 observations. Again, remember to start with a smaller subset of your dataset to ensure your implementation is correct before scaling up. "
   ]
  },
  {
   "cell_type": "code",
   "execution_count": 8,
   "metadata": {},
   "outputs": [
    {
     "name": "stdout",
     "output_type": "stream",
     "text": [
      "OpenAI API Key loaded successfully!\n"
     ]
    }
   ],
   "source": [
    "from dotenv import load_dotenv\n",
    "\n",
    "# Load environment variables from the .env file\n",
    "load_dotenv()\n",
    "\n",
    "# Access the OpenAI API key\n",
    "openai_api_key = os.getenv(\"OPENAI_API_KEY\")\n",
    "\n",
    "# Use the API key\n",
    "if openai_api_key:\n",
    "    print(\"OpenAI API Key loaded successfully!\")\n",
    "else:\n",
    "    print(\"OpenAI API Key not found. Please check your .env file.\")\n",
    "\n",
    "client = openai.OpenAI(api_key=os.environ.get(\"OPENAI_API_KEY\"))\n"
   ]
  },
  {
   "cell_type": "code",
   "execution_count": 9,
   "metadata": {},
   "outputs": [],
   "source": [
    "def query_gpt(system_prompt, question, model_name=\"gpt-4o\"):\n",
    "    try:\n",
    "        response = client.chat.completions.create(\n",
    "            model=model_name,\n",
    "            messages=[\n",
    "                {\n",
    "                    \"role\": \"user\", \"content\": system_prompt\n",
    "                },\n",
    "                {\n",
    "                    \"role\": \"user\", \"content\": question\n",
    "                }],\n",
    "        )\n",
    "        return response.choices[0].message.content\n",
    "    except Exception as e:\n",
    "        print(f\"Error querying GPT: {e}\")\n",
    "        return \"\"\n",
    "\n",
    "\n",
    "def extract_solution_from_gpt(response):\n",
    "    try:\n",
    "        answer_lines = response.split('\\n')\n",
    "    except:\n",
    "        return None\n",
    "    \n",
    "    # Regular expression to match \"#### -number\" or \"#### number\"\n",
    "    pattern = r\"####\\s*(-?\\d+)\"\n",
    "    \n",
    "    for line in answer_lines:\n",
    "        match = re.search(pattern, line)\n",
    "        if match:\n",
    "            return match.group(1)  # Extract the number, including the minus sign if present\n",
    "    \n",
    "    return None  # If no valid answer is found\n",
    "\n",
    "\n",
    "def check_answer(ans, soln):\n",
    "    if isinstance(ans, str):\n",
    "        # Remove commas and extra spaces\n",
    "        ans = ans.replace(\",\", \"\").strip()\n",
    "        # Convert to float and back to string to normalize formatting\n",
    "        try:\n",
    "            ans = str(float(ans))\n",
    "        except ValueError:\n",
    "            pass  # If it can't be converted, return as-is\n",
    "    if isinstance(soln, str):\n",
    "        # Remove commas and extra spaces\n",
    "        soln = soln.replace(\",\", \"\").strip()\n",
    "        # Convert to float and back to string to normalize formatting\n",
    "        try:\n",
    "            soln = str(float(soln))\n",
    "        except ValueError:\n",
    "            pass  # If it can't be converted, return as-is\n",
    "    return ans == soln\n",
    "\n",
    "\n",
    "def few_shot_prompt(train_data, num_shots):\n",
    "    # Sample question-solution examples from training set\n",
    "\n",
    "    sampled_df = train_data.sample(n=num_shots, random_state=42)\n",
    "    # print(sampled_df)\n",
    "    prompt = \"Here are a few examples: \\n\"\n",
    "    for i in range(len(sampled_df)):\n",
    "        prompt += f\"Example {i+1}: \\n\"\n",
    "        row = sampled_df.iloc[i,]\n",
    "        # print(row)\n",
    "        prompt += f\"question: {row['question']} \\n\"\n",
    "        prompt += f\"answer: {row['answer']} \\n\"\n",
    "\n",
    "    return prompt\n",
    "    "
   ]
  },
  {
   "cell_type": "code",
   "execution_count": 142,
   "metadata": {},
   "outputs": [],
   "source": [
    "initial_prompt = \"\"\"You are a math master. I will give the math problems to solve. Please provide your final numerical solution directly in the format: #### solution. \\n\n",
    "                    Please only give numbers without any unit \\n\n",
    "                    For example: #### 1 \\n\"\"\""
   ]
  },
  {
   "cell_type": "code",
   "execution_count": 56,
   "metadata": {},
   "outputs": [
    {
     "name": "stdout",
     "output_type": "stream",
     "text": [
      "Zero-shot accuracy = 0.768\n"
     ]
    }
   ],
   "source": [
    "# Zero shot learning\n",
    "\n",
    "# question = sample_row['question']\n",
    "# response = query_gpt(initial_prompt, question)\n",
    "# print(response)\n",
    "# print(extract_solution_from_gpt(response))\n",
    "correctness = 0\n",
    "for i in range(500):\n",
    "    row = df_test.iloc[i,]\n",
    "    solution = extract_solution(row)\n",
    "    gpt_response = query_gpt(initial_prompt, row[\"question\"])\n",
    "    answer = extract_solution_from_gpt(gpt_response)\n",
    "    # print(f\"Answer: {answer}, Solution: {solution}\")\n",
    "    if check_answer(answer, solution):\n",
    "        correctness += 1\n",
    "        \n",
    "print(f\"Zero-shot accuracy = {correctness/500}\")\n"
   ]
  },
  {
   "cell_type": "code",
   "execution_count": 143,
   "metadata": {},
   "outputs": [
    {
     "name": "stdout",
     "output_type": "stream",
     "text": [
      "0.0 done\n",
      "0.1 done\n",
      "0.2 done\n",
      "0.3 done\n",
      "0.4 done\n",
      "0.5 done\n",
      "0.6 done\n",
      "0.7 done\n",
      "0.8 done\n",
      "0.9 done\n",
      "Few-shot accuracy = 0.858\n"
     ]
    }
   ],
   "source": [
    "# Few shot learning\n",
    "num_exp = 2\n",
    "\n",
    "correctness = 0\n",
    "for i in range(500):\n",
    "    row = df_test.iloc[i,]\n",
    "    solution = extract_solution(row)\n",
    "    prompt = initial_prompt + few_shot_prompt(df_train, num_exp)\n",
    "    # print(prompt)\n",
    "    gpt_response = query_gpt(prompt, row[\"question\"])\n",
    "    answer = extract_solution_from_gpt(gpt_response)\n",
    "    # print(f\"Answer: {answer}, Solution: {solution}\")\n",
    "    if check_answer(answer, solution):\n",
    "        correctness += 1\n",
    "    if i % 50 == 0:\n",
    "        print(f\"{i / 500} done\")\n",
    "        \n",
    "print(f\"Few-shot accuracy = {correctness/500}\")\n"
   ]
  },
  {
   "cell_type": "code",
   "execution_count": 81,
   "metadata": {},
   "outputs": [
    {
     "name": "stdout",
     "output_type": "stream",
     "text": [
      "CoT accuracy = 0.92\n"
     ]
    }
   ],
   "source": [
    "# Chain of thought prompting\n",
    "\n",
    "cot_prompt = \"Let's think step by step\"\n",
    "\n",
    "correctness = 0\n",
    "for i in range(500):\n",
    "    row = df_test.iloc[i,]\n",
    "    solution = extract_solution(row)\n",
    "    # print(prompt)\n",
    "    gpt_response = query_gpt(initial_prompt, row[\"question\"]+cot_prompt)\n",
    "    answer = extract_solution_from_gpt(gpt_response)\n",
    "    # print(f\"Answer: {answer}, Solution: {solution}\")\n",
    "    if check_answer(answer, solution):\n",
    "        correctness += 1\n",
    "        \n",
    "print(f\"CoT accuracy = {correctness/500}\")"
   ]
  },
  {
   "cell_type": "code",
   "execution_count": 5,
   "metadata": {},
   "outputs": [
    {
     "name": "stdout",
     "output_type": "stream",
     "text": [
      "     Methods  Accuracy\n",
      "0  Zero shot     0.768\n",
      "1   Few shot     0.858\n",
      "2        CoT     0.920\n"
     ]
    },
    {
     "data": {
      "image/png": "[encoded data removed]",
      "text/plain": [
       "<Figure size 640x480 with 1 Axes>"
      ]
     },
     "metadata": {},
     "output_type": "display_data"
    }
   ],
   "source": [
    "accuracies = [0.768, 0.858, 0.92]\n",
    "methods = [\"Zero shot\", \"Few shot\", \"CoT\"]\n",
    "result = pd.DataFrame({\n",
    "    \"Methods\": methods,\n",
    "    \"Accuracy\": accuracies\n",
    "})\n",
    "print(result)\n",
    "\n",
    "import matplotlib.pyplot as plt\n",
    "\n",
    "# Create the bar plot\n",
    "plt.bar(result['Methods'], result['Accuracy'])\n",
    "\n",
    "# Add labels and title\n",
    "plt.xlabel('Methods')\n",
    "plt.ylabel('Accuracy')\n",
    "plt.title('Prompting Methods Comparison')\n",
    "\n",
    "# Show the plot\n",
    "plt.show()"
   ]
  },
  {
   "cell_type": "markdown",
   "metadata": {},
   "source": [
    "- This follows my expectation as these problems require multi-step reasoning. So I expect to see that CoT prompting gives the highest accuracy."
   ]
  },
  {
   "cell_type": "markdown",
   "metadata": {},
   "source": [
    "b)  Explore recent literature for reasoning methods that could enhance the performance of CoT and improve the baseline obtained in a). Then, compare the results with the reasoning models o1-mini and o3-mini, and discuss your findings."
   ]
  },
  {
   "cell_type": "code",
   "execution_count": 14,
   "metadata": {},
   "outputs": [
    {
     "name": "stdout",
     "output_type": "stream",
     "text": [
      "0.0 done\n",
      "0.1 done\n",
      "0.2 done\n",
      "0.3 done\n",
      "0.4 done\n",
      "0.5 done\n",
      "0.6 done\n",
      "0.7 done\n",
      "0.8 done\n",
      "0.9 done\n",
      "Zero-shot accuracy for o1-mini = 0.962\n"
     ]
    }
   ],
   "source": [
    "# o1-mini\n",
    "correctness = 0\n",
    "for i in range(500):\n",
    "    row = df_test.iloc[i,]\n",
    "    solution = extract_solution(row)\n",
    "    # print(row[\"question\"])\n",
    "    gpt_response = query_gpt(initial_prompt, row[\"question\"], model_name=\"o1-mini\")\n",
    "    answer = extract_solution_from_gpt(gpt_response)\n",
    "    # print(f\"Answer: {answer}, Solution: {solution}\")\n",
    "    if check_answer(answer, solution):\n",
    "        correctness += 1\n",
    "    if i % 50 == 0:\n",
    "        print(f\"{i / 500} done\")\n",
    "        \n",
    "print(f\"Zero-shot accuracy for o1-mini = {correctness/500}\")\n"
   ]
  },
  {
   "cell_type": "code",
   "execution_count": 15,
   "metadata": {},
   "outputs": [
    {
     "name": "stdout",
     "output_type": "stream",
     "text": [
      "0.0 done\n",
      "0.1 done\n",
      "0.2 done\n",
      "0.3 done\n",
      "0.4 done\n",
      "0.5 done\n",
      "0.6 done\n",
      "0.7 done\n",
      "0.8 done\n",
      "0.9 done\n",
      "Zero-shot accuracy for o3-mini = 0.974\n"
     ]
    }
   ],
   "source": [
    "# o3-mini\n",
    "correctness = 0\n",
    "for i in range(500):\n",
    "    row = df_test.iloc[i,]\n",
    "    solution = extract_solution(row)\n",
    "    # print(row[\"question\"])\n",
    "    gpt_response = query_gpt(initial_prompt, row[\"question\"], model_name=\"o3-mini\")\n",
    "    answer = extract_solution_from_gpt(gpt_response)\n",
    "    # print(f\"Answer: {answer}, Solution: {solution}\")\n",
    "    if check_answer(answer, solution):\n",
    "        correctness += 1\n",
    "    if i % 50 == 0:\n",
    "        print(f\"{i / 500} done\")\n",
    "        \n",
    "print(f\"Zero-shot accuracy for o3-mini = {correctness/500}\")"
   ]
  },
  {
   "cell_type": "markdown",
   "metadata": {},
   "source": [
    "#### Implement ReAct method with Calculator call:"
   ]
  },
  {
   "cell_type": "code",
   "execution_count": 3,
   "metadata": {},
   "outputs": [],
   "source": [
    "import sympy as sp"
   ]
  },
  {
   "cell_type": "code",
   "execution_count": 11,
   "metadata": {},
   "outputs": [],
   "source": [
    "def extract_and_evaluate(expression):\n",
    "    \"\"\"Extracts and evaluates an algebraic expression inside Calculate[].\"\"\"\n",
    "    match = re.search(r\"Calculate\\[(.*?)\\]\", expression)\n",
    "    if match:\n",
    "        math_expr = match.group(1)  # Extract the expression\n",
    "        try:\n",
    "            result = sp.sympify(math_expr)  # Safe symbolic evaluation\n",
    "            return str(result)  # Convert to string\n",
    "        except Exception as e:\n",
    "            # return f\"Error: {e}\"  # Handle invalid expressions\n",
    "            return \"No calculation performed. Please only add numerical values and try again.\"\n",
    "    return \"No calculation performed.\"  # No calculation needed\n",
    "\n",
    "def llm(prompt, stop=[\"\\n\"]):\n",
    "    response = client.chat.completions.create(\n",
    "        model=\"gpt-4o\",\n",
    "        messages=[{\"role\": \"user\", \"content\": prompt}],\n",
    "        temperature=0,\n",
    "        max_tokens=1000,\n",
    "        top_p=1,\n",
    "        frequency_penalty=0.0,\n",
    "        presence_penalty=0.0,\n",
    "        stop=stop\n",
    "    )\n",
    "    return response.choices[0].message.content\n",
    "\n",
    "# Function to simulate an environment step (LLM → Action → Calculation → Feedback)\n",
    "def step(action):\n",
    "    \"\"\"Processes the action generated by LLM and returns the observation.\"\"\"\n",
    "    obs_result = extract_and_evaluate(action)\n",
    "    if obs_result:\n",
    "        return f\"The result is {obs_result}.\", obs_result\n",
    "    return \"No calculation performed.\", None\n",
    "\n",
    "# Function to run the ReAct reasoning loop\n",
    "def react_reasoning(question, initial_prompt, max_steps=20, to_print=True):\n",
    "    prompt = initial_prompt + f\"Question: {question}\\n\\n\" + \"Let's think step by step. \\n\\n\"\n",
    "    n_calls, n_badcalls = 0, 0\n",
    "    \n",
    "    for i in range(1, max_steps + 1):\n",
    "        n_calls += 1\n",
    "        thought_action = llm(prompt + f\"Thought:\", stop=[f\"\\nObservation:\"])\n",
    "        \n",
    "        try:\n",
    "            thought, action = thought_action.strip().split(f\"\\nAction: \")\n",
    "        except:\n",
    "            print(f'Parsing issue:', thought_action)\n",
    "            n_badcalls += 1\n",
    "            thought = thought_action.strip().split('\\n')[0]\n",
    "            action = llm(prompt + f\"Thought: {thought}\\nAction:\", stop=[\"\\n\"]).strip()\n",
    "        \n",
    "        # Check if the response contains a final answer\n",
    "        if \"Final Answer:\" in action:\n",
    "            # print(f\"Thought {i}: {thought}\\nAction {i}: {action}\\n\")\n",
    "            final_answer = action.split(\"Final Answer:\")[-1].strip()\n",
    "            \n",
    "            final_answer = extract_solution_from_gpt(final_answer)\n",
    "            \n",
    "            # print(f\"\\nFinal Answer: {final_answer}\")\n",
    "            return final_answer, {\"n_calls\": n_calls, \"n_badcalls\": n_badcalls, \"traj\": prompt}\n",
    "\n",
    "\n",
    "        obs, result = step(action)\n",
    "        \n",
    "        # Build step log\n",
    "        step_str = f\"Thought: {thought}\\nAction: {action}\\nObservation: {obs}\\n\"\n",
    "        prompt += step_str\n",
    "\n",
    "        if to_print:\n",
    "            print(step_str)\n",
    "\n",
    "    # print(n_calls)\n",
    "    return None, {\"n_calls\": n_calls, \"n_badcalls\": n_badcalls, \"traj\": prompt}\n"
   ]
  },
  {
   "cell_type": "code",
   "execution_count": 6,
   "metadata": {},
   "outputs": [],
   "source": [
    "def construct_react_prompt(train_data, num_shots=2):\n",
    "    sampled_df = train_data.sample(n=num_shots, random_state=42)\n",
    "    prompt = \"Here are a few examples: \\n\"\n",
    "    reformat_prompt = \"\"\"\n",
    "                        Please reformat the answer in the format similar to this example: \\n\n",
    "                        Question: Bob wants to dig a hole 6 feet long by 4 feet wide by 3 feet deep. If it takes him 3 seconds to shovel a cubic foot of earth, how long will it take him to dig the hole? \\n\n",
    "                        Thought: To find out how long it will take Bob to dig the hole, I first need to calculate the volume of the hole in cubic feet. The volume of a rectangular prism is found by multiplying its length, width, and depth.\\n\n",
    "                        Action: Calculate[6 * 4 * 3]\\n\n",
    "                        Observation: The result of Calculate[6 * 4 * 3] is 72.\\n\n",
    "                        Thought: The volume of the hole is 72 cubic feet. Now, I need to calculate the total time it will take Bob to dig the hole by multiplying the volume by the time it takes to shovel each cubic foot.\\n\n",
    "                        Action: Calculate[72 * 3]\\n\n",
    "                        Observation: The result of Calculate[72 * 3] is 216.\\n\n",
    "                        Thought: The total time it will take Bob to dig the hole is 216 seconds.\\n\n",
    "                        Action: Final Answer: #### 216 \\n\\n\n",
    "                        Please transfer percentage into decimal form before put into Calculate[expression]. \\n\n",
    "                    \"\"\"\n",
    "    \n",
    "    for i in range(len(sampled_df)):\n",
    "        prompt += f\"Example {i+1}: \\n\"\n",
    "        row = sampled_df.iloc[i,]\n",
    "        # print(row)\n",
    "        reformatted_answer = query_gpt(reformat_prompt, row['question']+row['answer'], model_name=\"o3-mini\")\n",
    "        # print(reformatted_answer)\n",
    "        \n",
    "        prompt += reformatted_answer\n",
    "    return prompt"
   ]
  },
  {
   "cell_type": "code",
   "execution_count": 10,
   "metadata": {},
   "outputs": [
    {
     "name": "stdout",
     "output_type": "stream",
     "text": [
      "You are a math master. Please solve the following math problem step by step using reasoning and actions. \n",
      "\n",
      "Please give one pair of thought and action each time and stop to wait for observation. \n",
      "\n",
      "You are equipped with a method: Calculate[expression] to perform addition, subtraction, multiplication, and division. Please only add numerical values without any units or variables in it.\n",
      "\n",
      "Here are a few examples: \n",
      "Example 1: \n",
      "Question: At a pool party, there are 4 pizzas cut into 12 slices each. If the guests eat 39 slices, how many slices are left?\n",
      "\n",
      "Thought: To determine how many slices are left, first calculate the total number of slices by multiplying the number of pizzas by the slices per pizza.\n",
      "\n",
      "Action: Calculate[4 * 12]\n",
      "\n",
      "Observation: The result of Calculate[4 * 12] is 48.\n",
      "\n",
      "Thought: Now, subtract the number of slices eaten (39) from the total slices (48) to get the remaining slices.\n",
      "\n",
      "Action: Calculate[48 - 39]\n",
      "\n",
      "Observation: The result of Calculate[48 - 39] is 9.\n",
      "\n",
      "Thought: Therefore, after the guests eat 39 slices, there are 9 slices remaining.\n",
      "\n",
      "Action: Final Answer: #### 9Example 2: \n",
      "Question: Xander read 20% of his 500-page book on the first night, another 20% on the second night, and 30% on the third night. How many pages does he have left to read?\n",
      "\n",
      "Thought: To find out how many pages Xander has left to read, I need to determine how many pages he read each night in terms of the total 500 pages and then subtract the cumulative pages from 500.\n",
      "\n",
      "Action: Calculate[0.20 * 500]\n",
      "Observation: The result of Calculate[0.20 * 500] is 100.\n",
      "Thought: On the first night, Xander read 100 pages. Therefore, 500 - 100 = 400 pages remain after the first night.\n",
      "\n",
      "Action: Calculate[500 - 100]\n",
      "Observation: The result of Calculate[500 - 100] is 400.\n",
      "Thought: On the second night, he read another 20% of the book. Since 20% of 500 is still applicable:\n",
      "\n",
      "Action: Calculate[0.20 * 500]\n",
      "Observation: The result of Calculate[0.20 * 500] is 100.\n",
      "Thought: After the second night, subtract the 100 pages read from the remaining 400 pages: 400 - 100 = 300 pages remain.\n",
      "\n",
      "Action: Calculate[400 - 100]\n",
      "Observation: The result of Calculate[400 - 100] is 300.\n",
      "Thought: On the third night, he read 30% of the 500-page book, so:\n",
      "\n",
      "Action: Calculate[0.30 * 500]\n",
      "Observation: The result of Calculate[0.30 * 500] is 150.\n",
      "Thought: Subtract the 150 pages read on the third night from the remaining 300 pages: 300 - 150 = 150 pages left.\n",
      "\n",
      "Action: Calculate[300 - 150]\n",
      "Observation: The result of Calculate[300 - 150] is 150.\n",
      "Thought: The total number of pages left for Xander to read is 150.\n",
      "\n",
      "Action: Final Answer: #### 150\n"
     ]
    }
   ],
   "source": [
    "reasoning_prompt = \"\"\"You are a math master. Please solve the following math problem step by step using reasoning and actions. \\n\n",
    "Please give one pair of thought and action each time and stop to wait for observation. \\n\n",
    "You are equipped with a method: Calculate[expression] to perform addition, subtraction, multiplication, and division. Please only add numerical values without any units or variables in it.\\n\n",
    "\"\"\" + construct_react_prompt(df_train)\n",
    "print(reasoning_prompt)"
   ]
  },
  {
   "cell_type": "code",
   "execution_count": 12,
   "metadata": {},
   "outputs": [
    {
     "name": "stdout",
     "output_type": "stream",
     "text": [
      "0.0 done\n",
      "Parsing issue: To determine how long it takes Grandma to complete her entire 3-mile walk, we need to first find her walking speed on the beach and then use that to find her speed on the sidewalk. We know she spends 40 minutes walking 2 miles on the beach.\n",
      "\n",
      "Action: Calculate her speed on the beach by dividing the distance by the time spent.\n",
      "\n",
      "Action: Calculate[2 / (40 / 60)] \n",
      "Parsing issue: To find the total number of pets in the neighborhood, we need to determine the number of each type of pet: dogs, cats, and rabbits. We know the number of dogs and the relationship between the number of cats and dogs.\n",
      "\n",
      "Action: Calculate the number of cats by using the given ratio of cats to dogs, which is 2 cats for every dog. Since there are 60 dogs:\n",
      "\n",
      "Action: Calculate[2 * 60]\n",
      "Parsing issue: To determine the profit Tim makes from selling 10 jars, we first need to calculate the total cost of ingredients for one jar.\n",
      "\n",
      "Action: Calculate the cost of passion fruit for one jar by multiplying the pounds needed by the cost per pound.\n",
      "\n",
      "Action: Calculate[2 * 6]\n",
      "0.25 done\n",
      "Parsing issue: There are 40 chickens on the farm. Now, we need to calculate the total number of legs. Cows have 4 legs each, and chickens have 2 legs each. \n",
      "\n",
      "Action: Calculate the total number of legs from the cows by multiplying the number of cows by 4.\n",
      "\n",
      "Action: Calculate[20 * 4]\n",
      "Parsing issue: To determine how many rows of 5 stars are on the flag, I first need to calculate the total number of stars accounted for by the rows of 8 stars and the rows of 6 stars.\n",
      "\n",
      "Action: Calculate the number of stars in the three rows of 8 stars.\n",
      "\n",
      "Action: Calculate[3 * 8]\n",
      "0.5 done\n",
      "0.75 done\n",
      "Parsing issue: To determine how many plums Jamaar can buy, we first need to calculate the total cost of the fruits he has already purchased.\n",
      "\n",
      "Action: Calculate the cost of 3 peaches at $0.5 each.\n",
      "\n",
      "Action: Calculate[3 * 0.5]\n",
      "Parsing issue: To find the total amount of money Cecelia spent, we need to determine the cost of both the gallon jars and the half-gallon jars. We know the cost of a gallon jar and the relationship between the costs of the gallon and half-gallon jars.\n",
      "\n",
      "Action: Calculate the cost of a half-gallon jar by subtracting $2 from the cost of a gallon jar.\n",
      "\n",
      "Action: Calculate[5 - 2]\n",
      "Accuracy for ReAct agent = 0.955\n",
      "[42, 43, 48, 50, 78, 84, 90, 158, 179]\n"
     ]
    }
   ],
   "source": [
    "correctness = 0\n",
    "wrong_answer = []\n",
    "for i in range(200):\n",
    "    row = df_test.iloc[i,]\n",
    "    solution = extract_solution(row)\n",
    "    # print(row[\"question\"])\n",
    "    final_answer, info = react_reasoning(row['question'], reasoning_prompt, to_print=False)\n",
    "    # print(f\"Answer: {answer}, Solution: {solution}\")\n",
    "    if check_answer(final_answer, solution):\n",
    "        correctness += 1\n",
    "    else:\n",
    "        # print(f\"Question {i}: {row['question']}\")\n",
    "        wrong_answer.append(i)\n",
    "        # print(f\"Answer: {final_answer}, Solution: {solution}\")\n",
    "    if i % 50 == 0:\n",
    "        print(f\"{i / 200} done\")\n",
    "        \n",
    "print(f\"Accuracy for ReAct agent = {correctness/200}\")\n",
    "print(wrong_answer)"
   ]
  },
  {
   "cell_type": "code",
   "execution_count": 13,
   "metadata": {},
   "outputs": [
    {
     "name": "stdout",
     "output_type": "stream",
     "text": [
      "     Methods  Accuracy\n",
      "0  Zero shot     0.768\n",
      "1   Few shot     0.858\n",
      "2        CoT     0.920\n",
      "3    o1-mini     0.962\n",
      "4    o3-mini     0.974\n",
      "5      ReAct     0.955\n"
     ]
    },
    {
     "data": {
      "image/png": "[encoded data removed]",
      "text/plain": [
       "<Figure size 640x480 with 1 Axes>"
      ]
     },
     "metadata": {},
     "output_type": "display_data"
    }
   ],
   "source": [
    "accuracies = [0.768, 0.858, 0.92, 0.962, 0.974, 0.955]\n",
    "methods = [\"Zero shot\", \"Few shot\", \"CoT\", \"o1-mini\", \"o3-mini\", \"ReAct\"]\n",
    "result = pd.DataFrame({\n",
    "    \"Methods\": methods,\n",
    "    \"Accuracy\": accuracies\n",
    "})\n",
    "print(result)\n",
    "\n",
    "import matplotlib.pyplot as plt\n",
    "\n",
    "# Create the bar plot\n",
    "plt.bar(result['Methods'], result['Accuracy'])\n",
    "\n",
    "# Add labels and title\n",
    "plt.xlabel('Methods')\n",
    "plt.ylabel('Accuracy')\n",
    "plt.title('Prompting Methods Comparison')\n",
    "\n",
    "# Show the plot\n",
    "plt.show()"
   ]
  },
  {
   "cell_type": "markdown",
   "metadata": {},
   "source": [
    "- I found that ReAct method surpasses the simple CoT prompting, indicating the effectiveness of this method. However, o1-mini and o3-mini still reached higher accuracy than ReAct.\n",
    "* This may due to that some questions require solving equations. However, the Calculate[] method we provide can only perform arithmetic operations. Asking the LLM to use this method may break the most natural reasoning chain of solving an equations and cause the LLM to fail.\n",
    "- Additionally, requiring LLM to follow this thought-action template step by step may limit its free reasoning potential (bitter lesson). So it is expected that ReAct is no better than models that are finetuned to elicit reasoning explicitly.\n",
    "* Overall, ReAct gives us an easy way to improve the performance for non-reasoning model and allow us to better control LLM's reasoning."
   ]
  },
  {
   "cell_type": "markdown",
   "metadata": {},
   "source": [
    "c) Perform an ablation study similar to that of Section 3.3 of Wei et al. 2023: [Link](https://proceedings.neurips.cc/paper_files/paper/2022/file/9d5609613524ecf4f15af0f7b31abca4-Paper-Conference.pdf). Comment on your results.\n"
   ]
  },
  {
   "cell_type": "markdown",
   "metadata": {},
   "source": [
    "#### Action only:"
   ]
  },
  {
   "cell_type": "markdown",
   "metadata": {},
   "source": [
    "- We test whether the improvement in accuracy is merely attributed to the calculator or is the combined effect of calculator and reasoning. In this sense, we let the model to give calculation action without reasoning and compare the results."
   ]
  },
  {
   "cell_type": "code",
   "execution_count": 14,
   "metadata": {},
   "outputs": [],
   "source": [
    "def construct_action_prompt(train_data, num_shots=2):\n",
    "    sampled_df = train_data.sample(n=num_shots, random_state=42)\n",
    "    prompt = \"Here are a few examples: \\n\"\n",
    "    reformat_prompt = \"\"\"\n",
    "                        Please reformat the answer in the format similar to this example: \\n\n",
    "                        Question: Bob wants to dig a hole 6 feet long by 4 feet wide by 3 feet deep. If it takes him 3 seconds to shovel a cubic foot of earth, how long will it take him to dig the hole? \\n\n",
    "                        Action: Calculate[6 * 4 * 3]\\n\n",
    "                        Observation: The result of Calculate[6 * 4 * 3] is 72.\\n\n",
    "                        Action: Calculate[72 * 3]\\n\n",
    "                        Observation: The result of Calculate[72 * 3] is 216.\\n\n",
    "                        Action: Final Answer: #### 216 \\n\\n\n",
    "                        Please transfer percentage into decimal form before put into Calculate[expression]. \\n\n",
    "                    \"\"\"\n",
    "    \n",
    "    for i in range(len(sampled_df)):\n",
    "        prompt += f\"\\nExample {i+1}: \\n\"\n",
    "        row = sampled_df.iloc[i,]\n",
    "        # print(row)\n",
    "        reformatted_answer = query_gpt(reformat_prompt, row['question']+row['answer'], model_name=\"o3-mini\")\n",
    "        # print(reformatted_answer)\n",
    "        \n",
    "        prompt += reformatted_answer\n",
    "    return prompt"
   ]
  },
  {
   "cell_type": "code",
   "execution_count": 15,
   "metadata": {},
   "outputs": [
    {
     "name": "stdout",
     "output_type": "stream",
     "text": [
      "You are a math master. Please solve the following math problem step by step using reasoning and actions. \n",
      "\n",
      "Please give one action directly each time and stop to wait for observation. \n",
      "\n",
      "You are equipped with a method: Calculate[expression] to perform addition, subtraction, multiplication, and division. Please only add numerical values without any units or variables in it.\n",
      "\n",
      "Here are a few examples: \n",
      "\n",
      "Example 1: \n",
      "Question: At a pool party, there are 4 pizzas cut into 12 slices each. If the guests eat 39 slices, how many slices are left? \n",
      "\n",
      "Action: Calculate[4 * 12]  \n",
      "Observation: The result of Calculate[4 * 12] is 48. \n",
      "\n",
      "Action: Calculate[48 - 39]  \n",
      "Observation: The result of Calculate[48 - 39] is 9. \n",
      "\n",
      "Action: Final Answer: #### 9\n",
      "Example 2: \n",
      "Question: Xander read 20% of his 500-page book in one hour. The next night he read another 20% of the book. On the third night, he read 30% of his book. How many pages does he have left to read?\n",
      "\n",
      "Action: Calculate[0.20 * 500]  \n",
      "Observation: The result of Calculate[0.20 * 500] is 100.\n",
      "\n",
      "Action: Calculate[500 - 100]  \n",
      "Observation: The result of Calculate[500 - 100] is 400.\n",
      "\n",
      "Action: Calculate[0.20 * 500]  \n",
      "Observation: The result of Calculate[0.20 * 500] is 100.\n",
      "\n",
      "Action: Calculate[400 - 100]  \n",
      "Observation: The result of Calculate[400 - 100] is 300.\n",
      "\n",
      "Action: Calculate[0.30 * 500]  \n",
      "Observation: The result of Calculate[0.30 * 500] is 150.\n",
      "\n",
      "Action: Calculate[300 - 150]  \n",
      "Observation: The result of Calculate[300 - 150] is 150.\n",
      "\n",
      "Action: Final Answer: #### 150\n"
     ]
    }
   ],
   "source": [
    "action_prompt = \"\"\"You are a math master. Please solve the following math problem step by step using reasoning and actions. \\n\n",
    "Please give one action directly each time and stop to wait for observation. \\n\n",
    "You are equipped with a method: Calculate[expression] to perform addition, subtraction, multiplication, and division. Please only add numerical values without any units or variables in it.\\n\n",
    "\"\"\" + construct_action_prompt(df_train)\n",
    "print(action_prompt)"
   ]
  },
  {
   "cell_type": "code",
   "execution_count": 16,
   "metadata": {},
   "outputs": [],
   "source": [
    "def action_reasoning(question, initial_prompt, max_steps=20, to_print=True):\n",
    "    prompt = initial_prompt + f\"Question: {question}\\n\\n\"\n",
    "    n_calls, n_badcalls = 0, 0\n",
    "    \n",
    "    for i in range(1, max_steps + 1):\n",
    "        n_calls += 1\n",
    "        action = llm(prompt + f\"\\nAction:\", stop=[f\"\\nObservation:\"])\n",
    "        # print(action)\n",
    "        \n",
    "        # Check if the response contains a final answer\n",
    "        if \"Final Answer:\" in action:\n",
    "            # print(action)\n",
    "            # print(f\"Thought {i}: {thought}\\nAction {i}: {action}\\n\")\n",
    "            final_answer = action.split(\"Final Answer:\")[-1].strip()\n",
    "            \n",
    "            final_answer = extract_solution_from_gpt(final_answer)\n",
    "            \n",
    "            # print(f\"\\nFinal Answer: {final_answer}\")\n",
    "            return final_answer, {\"n_calls\": n_calls, \"n_badcalls\": n_badcalls, \"traj\": prompt}\n",
    "\n",
    "\n",
    "        obs, result = step(action)\n",
    "        \n",
    "        # Build step log\n",
    "        step_str = f\"Action: {action}\\nObservation: {obs}\\n\"\n",
    "        prompt += step_str\n",
    "\n",
    "        if to_print:\n",
    "            print(step_str)\n",
    "\n",
    "    # print(n_calls)\n",
    "    return None, {\"n_calls\": n_calls, \"n_badcalls\": n_badcalls, \"traj\": prompt}"
   ]
  },
  {
   "cell_type": "code",
   "execution_count": 18,
   "metadata": {},
   "outputs": [
    {
     "name": "stdout",
     "output_type": "stream",
     "text": [
      "0.0 done\n",
      "0.25 done\n",
      "0.5 done\n",
      "0.75 done\n",
      "Accuracy for Action-only agent = 0.85\n",
      "[2, 7, 13, 21, 30, 36, 42, 43, 48, 50, 54, 57, 73, 83, 84, 90, 95, 96, 97, 108, 115, 127, 131, 139, 144, 158, 179, 195, 196, 197]\n"
     ]
    }
   ],
   "source": [
    "correctness = 0\n",
    "wrong_answer = []\n",
    "for i in range(200):\n",
    "    row = df_test.iloc[i,]\n",
    "    solution = extract_solution(row)\n",
    "    # print(row[\"question\"])\n",
    "    final_answer, info = action_reasoning(row['question'], action_prompt, to_print=False)\n",
    "    # print(f\"Answer: {answer}, Solution: {solution}\")\n",
    "    if check_answer(final_answer, solution):\n",
    "        correctness += 1\n",
    "    else:\n",
    "        # print(f\"Question {i}: {row['question']}\")\n",
    "        wrong_answer.append(i)\n",
    "        # print(f\"Answer: {final_answer}, Solution: {solution}\")\n",
    "    if i % 50 == 0:\n",
    "        print(f\"{i / 200} done\")\n",
    "        \n",
    "print(f\"Accuracy for Action-only agent = {correctness/200}\")\n",
    "print(wrong_answer)"
   ]
  },
  {
   "cell_type": "code",
   "execution_count": 19,
   "metadata": {},
   "outputs": [
    {
     "name": "stdout",
     "output_type": "stream",
     "text": [
      "     Methods  Accuracy\n",
      "0  Zero shot     0.768\n",
      "1   Few shot     0.858\n",
      "2        CoT     0.920\n",
      "3    o1-mini     0.962\n",
      "4    o3-mini     0.974\n",
      "5      ReAct     0.955\n",
      "6   Act-only     0.850\n"
     ]
    },
    {
     "data": {
      "image/png": "[encoded data removed]",
      "text/plain": [
       "<Figure size 640x480 with 1 Axes>"
      ]
     },
     "metadata": {},
     "output_type": "display_data"
    }
   ],
   "source": [
    "accuracies = [0.768, 0.858, 0.92, 0.962, 0.974, 0.955, 0.85]\n",
    "methods = [\"Zero shot\", \"Few shot\", \"CoT\", \"o1-mini\", \"o3-mini\", \"ReAct\", \"Act-only\"]\n",
    "result = pd.DataFrame({\n",
    "    \"Methods\": methods,\n",
    "    \"Accuracy\": accuracies\n",
    "})\n",
    "print(result)\n",
    "\n",
    "import matplotlib.pyplot as plt\n",
    "\n",
    "# Create the bar plot\n",
    "plt.bar(result['Methods'], result['Accuracy'])\n",
    "\n",
    "# Add labels and title\n",
    "plt.xlabel('Methods')\n",
    "plt.ylabel('Accuracy')\n",
    "plt.title('Prompting Methods Comparison')\n",
    "\n",
    "# Show the plot\n",
    "plt.show()"
   ]
  },
  {
   "cell_type": "markdown",
   "metadata": {},
   "source": [
    "- We can see that the accuracy is slightly higher than few-shot prompting but significantly lower than CoT and ReAct. This shows that the success of ReAct is attributed to combining reasoning and calculating action."
   ]
  },
  {
   "cell_type": "markdown",
   "metadata": {},
   "source": [
    "#### Variable compute only"
   ]
  },
  {
   "cell_type": "code",
   "execution_count": 21,
   "metadata": {},
   "outputs": [],
   "source": [
    "variable_prompt = \"\"\"You are a math master. Please solve the following math problem. \\n\n",
    "Please estimate the number of arithmetic calculation need to be done by dots before giving the final answer \\n\n",
    "For examples: \\n\n",
    "Question: Xander read 20% of his 500-page book in one hour. The next night he read another 20% of the book. On the third night, he read 30% of his book. How many pages does he have left to read? \\n\n",
    "Answer: ...... #### 150 \\n \n",
    "Question: At a pool party, there are 4 pizzas cut into 12 slices each. If the guests eat 39 slices, how many slices are left? \\n\n",
    "Answer: .. #### 9 \\n\n",
    "Now, solve the question below: \\n\n",
    "\"\"\""
   ]
  },
  {
   "cell_type": "code",
   "execution_count": 22,
   "metadata": {},
   "outputs": [
    {
     "name": "stdout",
     "output_type": "stream",
     "text": [
      "0.0 done\n",
      "0.25 done\n",
      "0.5 done\n",
      "0.75 done\n",
      "Variable compute accuracy for gpt-4o = 0.81\n"
     ]
    }
   ],
   "source": [
    "correctness = 0\n",
    "for i in range(200):\n",
    "    row = df_test.iloc[i,]\n",
    "    solution = extract_solution(row)\n",
    "    # print(row[\"question\"])\n",
    "    gpt_response = query_gpt(variable_prompt, row[\"question\"])\n",
    "    answer = extract_solution_from_gpt(gpt_response)\n",
    "    # print(f\"Answer: {answer}, Solution: {solution}\")\n",
    "    if check_answer(answer, solution):\n",
    "        correctness += 1\n",
    "    if i % 50 == 0:\n",
    "        print(f\"{i / 200} done\")\n",
    "        \n",
    "print(f\"Variable compute accuracy for gpt-4o = {correctness/200}\")"
   ]
  },
  {
   "cell_type": "markdown",
   "metadata": {},
   "source": [
    "#### Reasoning after action"
   ]
  },
  {
   "cell_type": "code",
   "execution_count": 23,
   "metadata": {},
   "outputs": [],
   "source": [
    "def construct_postreason_prompt(train_data, num_shots=2):\n",
    "    sampled_df = train_data.sample(n=num_shots, random_state=42)\n",
    "    prompt = \"Here are a few examples: \\n\"\n",
    "    reformat_prompt = \"\"\"\n",
    "                        Please reformat the answer in the format similar to this example: \\n\n",
    "                        Question: Bob wants to dig a hole 6 feet long by 4 feet wide by 3 feet deep. If it takes him 3 seconds to shovel a cubic foot of earth, how long will it take him to dig the hole? \\n\n",
    "                        Action: Calculate[6 * 4 * 3]\\n\n",
    "                        Observation: The result of Calculate[6 * 4 * 3] is 72.\\n\n",
    "                        Action: Calculate[72 * 3]\\n\n",
    "                        Observation: The result of Calculate[72 * 3] is 216.\\n\n",
    "                        Action: Final Answer: #### 216 \\n\\n\n",
    "                        Thought: To find out how long it will take Bob to dig the hole, I first need to calculate the volume of the hole in cubic feet. The volume of a rectangular prism is found by multiplying its length, width, and depth.\\n\n",
    "                        The volume of the hole is 72 cubic feet. Now, I need to calculate the total time it will take Bob to dig the hole by multiplying the volume by the time it takes to shovel each cubic foot.\\n\n",
    "                        The total time it will take Bob to dig the hole is 216 seconds.\\n\n",
    "                        Please transfer percentage into decimal form before put into Calculate[expression]. \\n\n",
    "                    \"\"\"\n",
    "    \n",
    "    for i in range(len(sampled_df)):\n",
    "        prompt += f\"Example {i+1}: \\n\"\n",
    "        row = sampled_df.iloc[i,]\n",
    "        # print(row)\n",
    "        reformatted_answer = query_gpt(reformat_prompt, row['question']+row['answer'], model_name=\"o3-mini\")\n",
    "        # print(reformatted_answer)\n",
    "        \n",
    "        prompt += reformatted_answer\n",
    "    return prompt"
   ]
  },
  {
   "cell_type": "code",
   "execution_count": 24,
   "metadata": {},
   "outputs": [
    {
     "name": "stdout",
     "output_type": "stream",
     "text": [
      "You are a math master. Please solve the following math problem step by step using reasoning and actions. \n",
      "\n",
      "Please give one action directly each time and stop to wait for observation. \n",
      "\n",
      "You are equipped with a method: Calculate[expression] to perform addition, subtraction, multiplication, and division. Please only add numerical values without any units or variables in it.\n",
      "\n",
      "Please explain your thought after giving the final answerHere are a few examples: \n",
      "Example 1: \n",
      "Question: At a pool party, there are 4 pizzas cut into 12 slices each. If the guests eat 39 slices, how many slices are left?\n",
      "\n",
      "Action: Calculate[4 * 12]  \n",
      "Observation: The result of Calculate[4 * 12] is 48.\n",
      "\n",
      "Action: Calculate[48 - 39]  \n",
      "Observation: The result of Calculate[48 - 39] is 9.\n",
      "\n",
      "Action: Final Answer: #### 9\n",
      "\n",
      "Thought: To determine how many slices are left, I first calculate the total number of slices by multiplying the number of pizzas by the number of slices per pizza. This gives me 48 slices. Then, I subtract the 39 slices that were eaten from the total number of slices to get the final amount left, which is 9 slices.Example 2: \n",
      "Question: Xander read 20% of his 500-page book on the first night, another 20% on the second night, and 30% on the third night. How many pages does he have left to read?\n",
      "\n",
      "Action: Calculate[0.20 * 500]\n",
      "Observation: The result of Calculate[0.20 * 500] is 100.\n",
      "\n",
      "Action: Calculate[500 - 100]\n",
      "Observation: The result of Calculate[500 - 100] is 400.\n",
      "\n",
      "Action: Calculate[0.20 * 500]\n",
      "Observation: The result of Calculate[0.20 * 500] is 100.\n",
      "\n",
      "Action: Calculate[400 - 100]\n",
      "Observation: The result of Calculate[400 - 100] is 300.\n",
      "\n",
      "Action: Calculate[0.30 * 500]\n",
      "Observation: The result of Calculate[0.30 * 500] is 150.\n",
      "\n",
      "Action: Calculate[300 - 150]\n",
      "Observation: The result of Calculate[300 - 150] is 150.\n",
      "\n",
      "Action: Final Answer: #### 150\n",
      "\n",
      "Thought: To determine the number of pages left, I first calculated how many pages were read on each night by converting the percentages to decimals and multiplying by the total pages (500). After the first night, 100 pages were read, leaving 400 pages. On the second night, another 100 pages were read, leaving 300 pages. On the third night, 150 pages were read (from 30% of 500), which reduced the remaining pages from 300 to 150. Hence, Xander has 150 pages left to read.\n"
     ]
    }
   ],
   "source": [
    "postreason_prompt = \"\"\"You are a math master. Please solve the following math problem step by step using reasoning and actions. \\n\n",
    "Please give one action directly each time and stop to wait for observation. \\n\n",
    "You are equipped with a method: Calculate[expression] to perform addition, subtraction, multiplication, and division. Please only add numerical values without any units or variables in it.\\n\n",
    "Please explain your thought after giving the final answer\"\"\" + construct_postreason_prompt(df_train)\n",
    "print(postreason_prompt)"
   ]
  },
  {
   "cell_type": "code",
   "execution_count": 25,
   "metadata": {},
   "outputs": [
    {
     "name": "stdout",
     "output_type": "stream",
     "text": [
      "0.0 done\n",
      "0.25 done\n",
      "0.5 done\n",
      "0.75 done\n",
      "Accuracy for Post-reasoning agent = 0.865\n",
      "[2, 7, 13, 30, 36, 42, 48, 50, 54, 57, 73, 84, 90, 95, 97, 113, 115, 127, 131, 139, 144, 158, 173, 179, 181, 196, 197]\n"
     ]
    }
   ],
   "source": [
    "correctness = 0\n",
    "wrong_answer = []\n",
    "for i in range(200):\n",
    "    row = df_test.iloc[i,]\n",
    "    solution = extract_solution(row)\n",
    "    # print(row[\"question\"])\n",
    "    final_answer, info = action_reasoning(row['question'], postreason_prompt, to_print=False)\n",
    "    # print(f\"Answer: {answer}, Solution: {solution}\")\n",
    "    if check_answer(final_answer, solution):\n",
    "        correctness += 1\n",
    "    else:\n",
    "        # print(f\"Question {i}: {row['question']}\")\n",
    "        wrong_answer.append(i)\n",
    "        # print(f\"Answer: {final_answer}, Solution: {solution}\")\n",
    "    if i % 50 == 0:\n",
    "        print(f\"{i / 200} done\")\n",
    "        \n",
    "print(f\"Accuracy for Post-reasoning agent = {correctness/200}\")\n",
    "print(wrong_answer)"
   ]
  },
  {
   "cell_type": "code",
   "execution_count": 32,
   "metadata": {},
   "outputs": [
    {
     "name": "stdout",
     "output_type": "stream",
     "text": [
      "     Methods  Accuracy\n",
      "0  Zero shot     0.768\n",
      "1   Few shot     0.858\n",
      "2        CoT     0.920\n",
      "3    o1-mini     0.962\n",
      "4    o3-mini     0.974\n",
      "5      ReAct     0.955\n",
      "6   Act-only     0.850\n",
      "7   Var-comp     0.810\n",
      "8    PostCoT     0.865\n"
     ]
    },
    {
     "data": {
      "image/png": "[encoded data removed]",
      "text/plain": [
       "<Figure size 640x480 with 1 Axes>"
      ]
     },
     "metadata": {},
     "output_type": "display_data"
    }
   ],
   "source": [
    "accuracies = [0.768, 0.858, 0.92, 0.962, 0.974, 0.955, 0.85, 0.81, 0.865]\n",
    "methods = [\"Zero shot\", \"Few shot\", \"CoT\", \"o1-mini\", \"o3-mini\", \"ReAct\", \"Act-only\", \"Var-comp\", \"PostCoT\"]\n",
    "result = pd.DataFrame({\n",
    "    \"Methods\": methods,\n",
    "    \"Accuracy\": accuracies\n",
    "})\n",
    "print(result)\n",
    "\n",
    "import matplotlib.pyplot as plt\n",
    "\n",
    "# Create the bar plot\n",
    "plt.bar(result['Methods'], result['Accuracy'])\n",
    "\n",
    "# Add labels and title\n",
    "plt.xlabel('Methods')\n",
    "plt.ylabel('Accuracy')\n",
    "plt.title('Prompting Methods Comparison')\n",
    "\n",
    "# Show the plot\n",
    "plt.xticks(rotation=45)\n",
    "plt.show()"
   ]
  },
  {
   "cell_type": "markdown",
   "metadata": {},
   "source": [
    "- We can see that all of these ablation studies show lower accuracy than the ReAct methods, illustrating the effectiveness of ReAct.\n",
    "* However, o3-mini still got the highest accuracy. This indicates that structural prompt engineering cannot surpass finetuned reasoning model, further proving the bitter lesson."
   ]
  }
 ],
 "metadata": {
  "kernelspec": {
   "display_name": "Python 3 (ipykernel)",
   "language": "python",
   "name": "python3"
  },
  "language_info": {
   "codemirror_mode": {
    "name": "ipython",
    "version": 3
   },
   "file_extension": ".py",
   "mimetype": "text/x-python",
   "name": "python",
   "nbconvert_exporter": "python",
   "pygments_lexer": "ipython3",
   "version": "3.10.5"
  }
 },
 "nbformat": 4,
 "nbformat_minor": 4
}
